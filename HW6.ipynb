git init
git add HW6.ipynb
git commit -m "Initial commit"
git branch -M main
git remote add origin https://github.com/yourusername/yourrepository.git
git push -u origin main

